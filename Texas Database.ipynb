{
 "cells": [
  {
   "cell_type": "code",
   "execution_count": 1,
   "source": [
    "from faker import Faker\n",
    "from faker_vehicle import VehicleProvider\n",
    "import pandas as pd\n",
    "from faker.providers import automotive\n",
    "import random\n"
   ],
   "outputs": [],
   "metadata": {}
  },
  {
   "cell_type": "code",
   "execution_count": 2,
   "source": [
    "def licence_plate():\n",
    "    from random import choice\n",
    "    import string\n",
    "    import random\n",
    "    letter = 'ABCDEFGHIJKLMNOPQRSTUVWXYZ'\n",
    "    number = ''.join([choice(letter) for i in range(3)] + [\" \"] +[choice(string.digits) for i in range(3)])\n",
    "    return number\n",
    "\n",
    "def vin_number():\n",
    "    from random import choice\n",
    "    import string\n",
    "    import random\n",
    "    letter = 'ABCDEFGHIJKLMNOPQRSTUVWXYZ'\n",
    "    number = ''.join([choice(string.digits) for i in range(1)] + \n",
    "                [\"\"] +[choice(letter) for i in range(4)] + \n",
    "                [\"\"] +[choice(string.digits) for i in range(2)] +\n",
    "                [\"\"] +[choice(letter) for i in range(4)] +\n",
    "                [\"\"] +[choice(string.digits) for i in range(6)]    \n",
    "                )\n",
    "    return number"
   ],
   "outputs": [],
   "metadata": {}
  },
  {
   "cell_type": "code",
   "execution_count": 3,
   "source": [
    "fake = Faker(\"en_US\")"
   ],
   "outputs": [],
   "metadata": {}
  },
  {
   "cell_type": "code",
   "execution_count": 4,
   "source": [
    "fake.add_provider(VehicleProvider)"
   ],
   "outputs": [],
   "metadata": {}
  },
  {
   "cell_type": "code",
   "execution_count": 5,
   "source": [
    "license_plate_list_status = [\"Pending\", \"Permanent\",\"Temporary\"]"
   ],
   "outputs": [],
   "metadata": {}
  },
  {
   "cell_type": "code",
   "execution_count": 6,
   "source": [
    "ident = {}\n",
    "for i in range(0,100000):\n",
    "    ident[i] = {}    \n",
    "    ident[i][\"First Name\"] = fake.first_name()\n",
    "    ident[i][\"First Name\"] = fake.first_name()\n",
    "    ident[i][\"Last Name\"] = fake.last_name()\n",
    "    ident[i][\"Social Security\"] = fake.ssn()\n",
    "    ident[i][\"License Plate\"] = licence_plate()\n",
    "    ident[i][\"VIN Number\"] = vin_number()\n",
    "    ident[i][\"License Plate Status\"] = random.choice(license_plate_list_status)\n",
    "    ident[i][\"Address 1\"] = fake.street_address()\n",
    "    ident[i][\"City\"] = fake.city()\n",
    "    ident[i][\"Postal Code\"] = fake.zipcode_in_state(\"TX\")\n",
    "    ident[i][\"State\"] = \"Texas\"\n",
    "    ident[i][\"Country\"] = fake.current_country()\n",
    "    ident[i][\"Vehicle\"] = fake.vehicle_object()\n",
    "\n"
   ],
   "outputs": [],
   "metadata": {}
  },
  {
   "cell_type": "code",
   "execution_count": 7,
   "source": [
    "v_list = []\n",
    "for i in range(0,100000):\n",
    "    v_list.append(ident[i][\"Vehicle\"])\n"
   ],
   "outputs": [],
   "metadata": {}
  },
  {
   "cell_type": "code",
   "execution_count": 8,
   "source": [
    "df_info = pd.DataFrame(ident).transpose().drop(columns=\"Vehicle\")\n",
    "df_vehicle = pd.DataFrame(v_list)"
   ],
   "outputs": [],
   "metadata": {}
  },
  {
   "cell_type": "code",
   "execution_count": 9,
   "source": [
    "df = pd.merge(\n",
    "    left=df_info,\n",
    "    right = df_vehicle,\n",
    "    how = \"outer\",\n",
    "    on = df_info.index\n",
    ").drop(\"key_0\",axis=1)"
   ],
   "outputs": [],
   "metadata": {}
  },
  {
   "cell_type": "code",
   "execution_count": 11,
   "source": [
    "import sqlalchemy"
   ],
   "outputs": [],
   "metadata": {}
  },
  {
   "cell_type": "code",
   "execution_count": 12,
   "source": [
    "connection_string = \"sqlite:///database_file.db\""
   ],
   "outputs": [],
   "metadata": {}
  },
  {
   "cell_type": "code",
   "execution_count": 13,
   "source": [
    "engine = sqlalchemy.create_engine(connection_string)"
   ],
   "outputs": [],
   "metadata": {}
  },
  {
   "cell_type": "code",
   "execution_count": 14,
   "source": [
    "df.to_sql(\n",
    "    name=\"Texas License Plates\",\n",
    "    con=engine,\n",
    "    if_exists=\"replace\",\n",
    "    index=True)"
   ],
   "outputs": [],
   "metadata": {}
  },
  {
   "cell_type": "code",
   "execution_count": 15,
   "source": [
    "engine.table_names()"
   ],
   "outputs": [
    {
     "output_type": "stream",
     "name": "stderr",
     "text": [
      "/var/folders/bk/z2_y916x5gx26_4vt2c_99zh0000gn/T/ipykernel_7566/4162273999.py:1: SADeprecationWarning: The Engine.table_names() method is deprecated and will be removed in a future release.  Please refer to Inspector.get_table_names(). (deprecated since: 1.4)\n",
      "  engine.table_names()\n"
     ]
    },
    {
     "output_type": "execute_result",
     "data": {
      "text/plain": [
       "['Texas License Plates']"
      ]
     },
     "metadata": {},
     "execution_count": 15
    }
   ],
   "metadata": {}
  },
  {
   "cell_type": "code",
   "execution_count": null,
   "source": [],
   "outputs": [],
   "metadata": {}
  }
 ],
 "metadata": {
  "interpreter": {
   "hash": "7daa0d4bf7d9832ecbed35672e4713eb7ac02d47de1d2bb67748262634aa87d4"
  },
  "kernelspec": {
   "display_name": "Python 3.9.7 ('dev')",
   "language": "python",
   "name": "python3"
  },
  "language_info": {
   "codemirror_mode": {
    "name": "ipython",
    "version": 3
   },
   "file_extension": ".py",
   "mimetype": "text/x-python",
   "name": "python",
   "nbconvert_exporter": "python",
   "pygments_lexer": "ipython3",
   "version": "3.9.7"
  },
  "orig_nbformat": 4
 },
 "nbformat": 4,
 "nbformat_minor": 2
}