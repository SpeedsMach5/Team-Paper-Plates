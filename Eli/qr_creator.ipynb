{
 "cells": [
  {
   "cell_type": "code",
   "execution_count": 1,
   "metadata": {},
   "outputs": [
    {
     "data": {
      "text/plain": [
       "True"
      ]
     },
     "execution_count": 1,
     "metadata": {},
     "output_type": "execute_result"
    }
   ],
   "source": [
    "from operator import index\n",
    "from web3 import Web3\n",
    "import streamlit as st\n",
    "import json\n",
    "from dotenv import load_dotenv\n",
    "import os\n",
    "from pinata import pin_file_to_ipfs, pin_json_to_ipfs, convert_data_to_json, get_CID\n",
    "from importlib_metadata import metadata\n",
    "from pyrsistent import v\n",
    "import qrcode \n",
    "from faker import Faker\n",
    "from faker_vehicle import VehicleProvider\n",
    "import pandas as pd\n",
    "from faker.providers import automotive\n",
    "import random\n",
    "import streamlit as st\n",
    "import web3 as Web3\n",
    "import pandas as pd\n",
    "import path as Path\n",
    "import sqlalchemy as db\n",
    "from sqlalchemy import create_engine, MetaData, Table\n",
    "# from Texas_Database import  td \n",
    "import time\n",
    "from tqdm import tqdm\n",
    "\n",
    "load_dotenv()"
   ]
  },
  {
   "cell_type": "code",
   "execution_count": null,
   "metadata": {},
   "outputs": [],
   "source": []
  },
  {
   "cell_type": "code",
   "execution_count": 2,
   "metadata": {},
   "outputs": [],
   "source": [
    "engine = create_engine('sqlite:///database_file.db')\n",
    "connection = engine.connect()\n",
    "df = pd.read_sql_table(\"Texas License Plates\", con=engine)\n",
    "token_uri = df['VIN Number'].head()\n",
    "\n",
    "# token_uri=[]\n",
    "\n",
    "token_uri = (pd.read_sql_table('Vin Number', con=engine) for vin in token_uri) "
   ]
  },
  {
   "cell_type": "code",
   "execution_count": 3,
   "metadata": {},
   "outputs": [],
   "source": [
    "vin=[]\n",
    "name=[]\n",
    "status=[]\n",
    "make=[]\n",
    "model=[]\n",
    "year=[]\n",
    "color=[]\n",
    "\n",
    "for i,r in df.iterrows():\n",
    "    vin.append(r[\"VIN Number\"]), \n",
    "    name.append(r[\"First Name\"]+' '+r['Last Name'])\n",
    "    status.append(r['License Plate Status'])\n",
    "    make.append(r['Make'])\n",
    "    model.append(r['Model'])\n",
    "    year.append(r['Year'])\n",
    "    color.append(r['Color'])"
   ]
  },
  {
   "cell_type": "code",
   "execution_count": 4,
   "metadata": {},
   "outputs": [
    {
     "data": {
      "text/plain": [
       "Index(['index', 'First Name', 'Last Name', 'Social Security', 'License Plate',\n",
       "       'VIN Number', 'License Plate Status', 'Address 1', 'City',\n",
       "       'Postal Code', 'State', 'Country', 'Color', 'Year', 'Make', 'Model',\n",
       "       'Category'],\n",
       "      dtype='object')"
      ]
     },
     "execution_count": 4,
     "metadata": {},
     "output_type": "execute_result"
    }
   ],
   "source": [
    "df.columns "
   ]
  },
  {
   "cell_type": "code",
   "execution_count": 5,
   "metadata": {},
   "outputs": [
    {
     "data": {
      "text/plain": [
       "['2ZVRE49SOUO212447',\n",
       " '1BEYY60VMVF932871',\n",
       " '2KXTF54BHVP565576',\n",
       " '8MTUP48IBIH019041',\n",
       " '5SDXN40KLPM040389']"
      ]
     },
     "metadata": {},
     "output_type": "display_data"
    },
    {
     "data": {
      "text/plain": [
       "['Troy Mclean',\n",
       " 'Patrick Hartman',\n",
       " 'Zachary Gordon',\n",
       " 'Emily Carr',\n",
       " 'Matthew Roy']"
      ]
     },
     "metadata": {},
     "output_type": "display_data"
    },
    {
     "data": {
      "text/plain": [
       "['Temporary', 'Pending', 'Pending', 'Not in Database', 'Not in Database']"
      ]
     },
     "metadata": {},
     "output_type": "display_data"
    },
    {
     "data": {
      "text/plain": [
       "['GMC', 'Ram', 'Chevrolet', 'Mercedes-Benz', 'Ford']"
      ]
     },
     "metadata": {},
     "output_type": "display_data"
    },
    {
     "data": {
      "text/plain": [
       "['Yukon XL 2500',\n",
       " '1500 Crew Cab',\n",
       " 'S10 Extended Cab',\n",
       " 'CLS-Class',\n",
       " 'F250 Super Duty Super Cab']"
      ]
     },
     "metadata": {},
     "output_type": "display_data"
    },
    {
     "data": {
      "text/plain": [
       "[2009, 2013, 2001, 2010, 2015]"
      ]
     },
     "metadata": {},
     "output_type": "display_data"
    },
    {
     "data": {
      "text/plain": [
       "['teal', 'aqua', 'silver', 'purple', 'blue']"
      ]
     },
     "metadata": {},
     "output_type": "display_data"
    }
   ],
   "source": [
    "display(vin[0:5],\n",
    "name[0:5],\n",
    "status[0:5],\n",
    "make[0:5],\n",
    "model[0:5],\n",
    "year[0:5],\n",
    "color[0:5])"
   ]
  },
  {
   "cell_type": "code",
   "execution_count": 6,
   "metadata": {},
   "outputs": [],
   "source": [
    "def make_qr(name, vin, status, make,\n",
    "model,\n",
    "year,\n",
    "color):\n",
    "    qr = qrcode.QRCode(\n",
    "    version=1,\n",
    "    error_correction=qrcode.constants.ERROR_CORRECT_L,\n",
    "    box_size=10,\n",
    "    border=4)\n",
    "\n",
    "    qr.add_data({\"name\":f\"{name}\", \"vin\":f\"{vin}\",\"status\":f\"{status}\", \"make\":f\"{make}\", \"model\":f\"{model}\", \"year\":f\"{year}\", \"color\":f\"{color}\"})\n",
    "\n",
    "    qr.make(fit=True)\n",
    "\n",
    "    img = qr.make_image(fill_color=\"black\", back_color=\"white\")\n",
    "\n",
    "    img.save(f\"storage/{name}.jpg\")"
   ]
  },
  {
   "cell_type": "code",
   "execution_count": 7,
   "metadata": {},
   "outputs": [],
   "source": [
    "master=zip(name, vin, status, make, model, year, color)"
   ]
  },
  {
   "cell_type": "code",
   "execution_count": null,
   "metadata": {},
   "outputs": [],
   "source": [
    "for name, vin, status, make, model, year, color in master:\n",
    "    make_qr(name, vin, status, make, model, year, color)"
   ]
  }
 ],
 "metadata": {
  "interpreter": {
   "hash": "40e9b2adb015e70e4ae6ef8b045f879016910b84efe6b797488ffecf690d46b9"
  },
  "kernelspec": {
   "display_name": "Python 3.8.8 ('dev')",
   "language": "python",
   "name": "python3"
  },
  "language_info": {
   "codemirror_mode": {
    "name": "ipython",
    "version": 3
   },
   "file_extension": ".py",
   "mimetype": "text/x-python",
   "name": "python",
   "nbconvert_exporter": "python",
   "pygments_lexer": "ipython3",
   "version": "3.8.8"
  },
  "orig_nbformat": 4
 },
 "nbformat": 4,
 "nbformat_minor": 2
}
