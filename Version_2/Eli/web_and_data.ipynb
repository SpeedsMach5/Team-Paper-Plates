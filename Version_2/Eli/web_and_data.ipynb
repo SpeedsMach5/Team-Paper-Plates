{
 "cells": [
  {
   "cell_type": "code",
   "execution_count": 1,
   "metadata": {},
   "outputs": [],
   "source": [
    "from web3 import Web3\n",
    "import pandas as pd\n",
    "import os\n",
    "import json\n",
    "from dotenv import load_dotenv\n",
    "import sqlalchemy as sql\n",
    "from pathlib import Path\n",
    "\n",
    "\n",
    "from mnemonic import Mnemonic\n",
    "from bip44 import Wallet\n",
    "from web3 import Account\n",
    "load_dotenv()\n",
    "w3 = Web3(Web3.HTTPProvider(os.getenv(\"WEB3_PROVIDER_URI\")))\n"
   ]
  },
  {
   "cell_type": "code",
   "execution_count": 2,
   "metadata": {},
   "outputs": [],
   "source": [
    "def load_contract():\n",
    "\n",
    "    # Load the contract ABI\n",
    "    with open(Path('abi.json')) as f:\n",
    "        artwork_abi = json.load(f)\n",
    "\n",
    "    contract_address = os.getenv(\"SMART_CONTRACT_ADDRESS\")\n",
    "\n",
    "    # Load the contract\n",
    "    contract = w3.eth.contract(\n",
    "        address=contract_address,\n",
    "        abi=artwork_abi\n",
    "    )\n",
    "\n",
    "    return contract"
   ]
  },
  {
   "cell_type": "code",
   "execution_count": 3,
   "metadata": {},
   "outputs": [],
   "source": [
    "contract = load_contract()"
   ]
  },
  {
   "cell_type": "code",
   "execution_count": 28,
   "metadata": {},
   "outputs": [],
   "source": [
    "# address = \"0xd848F0e8D832cfb0969a1982fd647f60a0b3d944\"\n",
    "address = \"0xe4579DE6777841d4a16C86dB45F258616Ff93c88\"\n",
    "owner = \"0xe4579DE6777841d4a16C86dB45F258616Ff93c88\"\n",
    "# owner = \"0x2856b2fFFa0D703a2946C61d05989ca17147c20C\""
   ]
  },
  {
   "cell_type": "code",
   "execution_count": 29,
   "metadata": {},
   "outputs": [
    {
     "data": {
      "text/plain": [
       "[<Function approve(address,uint256)>,\n",
       " <Function balanceOf(address)>,\n",
       " <Function baseURI()>,\n",
       " <Function getApproved(uint256)>,\n",
       " <Function isApprovedForAll(address,address)>,\n",
       " <Function name()>,\n",
       " <Function ownerOf(uint256)>,\n",
       " <Function registerCar(address,string,string,string,string)>,\n",
       " <Function safeTransferFrom(address,address,uint256)>,\n",
       " <Function safeTransferFrom(address,address,uint256,bytes)>,\n",
       " <Function setApprovalForAll(address,bool)>,\n",
       " <Function supportsInterface(bytes4)>,\n",
       " <Function symbol()>,\n",
       " <Function tokenByIndex(uint256)>,\n",
       " <Function tokenOfOwnerByIndex(address,uint256)>,\n",
       " <Function tokenURI(uint256)>,\n",
       " <Function totalSupply()>,\n",
       " <Function transferFrom(address,address,uint256)>,\n",
       " <Function vehicleCollection(uint256)>]"
      ]
     },
     "execution_count": 29,
     "metadata": {},
     "output_type": "execute_result"
    }
   ],
   "source": [
    "contract.all_functions()"
   ]
  },
  {
   "cell_type": "code",
   "execution_count": 30,
   "metadata": {},
   "outputs": [
    {
     "data": {
      "text/plain": [
       "HexBytes('0xd96e40b746614078bd702541ecbfe0a702cb78088528b38c1ac461519abab283')"
      ]
     },
     "execution_count": 30,
     "metadata": {},
     "output_type": "execute_result"
    }
   ],
   "source": [
    "contract.functions.registerCar(\n",
    "    address,\n",
    "    \"bob\",\n",
    "    \"w356453\",\n",
    "    \"Pending\",\n",
    "    \"www.facebook.com\"\n",
    ").transact(\n",
    "    {\"from\":owner, \n",
    "    'gas': 1000000})\n"
   ]
  },
  {
   "cell_type": "code",
   "execution_count": 41,
   "metadata": {},
   "outputs": [
    {
     "data": {
      "text/plain": [
       "HexBytes('0xfa95fc7ba1d093b5420264a4d26b9bc9f8b4fae6ae6c108d5eef780913af1e9e')"
      ]
     },
     "execution_count": 41,
     "metadata": {},
     "output_type": "execute_result"
    }
   ],
   "source": [
    "contract.functions.registerCar(\n",
    "    address,\n",
    "    \"quentin\",\n",
    "    \"tuy678567\",\n",
    "    \"Active\",\n",
    "    \"www.myspace.com\"\n",
    ").transact(\n",
    "    {\"from\":owner, \n",
    "    'gas': 1000000})"
   ]
  },
  {
   "cell_type": "code",
   "execution_count": 42,
   "metadata": {},
   "outputs": [
    {
     "data": {
      "text/plain": [
       "HexBytes('0xd31f966a0eef975e52d21aba74e828352374d0c9c817d92b70312580ed7959fb')"
      ]
     },
     "execution_count": 42,
     "metadata": {},
     "output_type": "execute_result"
    }
   ],
   "source": [
    "contract.functions.registerCar(\n",
    "    address,\n",
    "    \"john\",\n",
    "    \"098723\",\n",
    "    \"Not in Database\",\n",
    "    \"www.yahoo.com\"\n",
    ").transact(\n",
    "    {\"from\":owner, \n",
    "    'gas': 1000000})"
   ]
  },
  {
   "cell_type": "code",
   "execution_count": null,
   "metadata": {},
   "outputs": [],
   "source": [
    "vin_to_verify = \"tuy678567\""
   ]
  },
  {
   "cell_type": "code",
   "execution_count": 62,
   "metadata": {},
   "outputs": [],
   "source": [
    "def total_token_supply():\n",
    "    return contract.functions.totalSupply().call()"
   ]
  },
  {
   "cell_type": "code",
   "execution_count": 64,
   "metadata": {},
   "outputs": [
    {
     "name": "stdout",
     "output_type": "stream",
     "text": [
      "0\n",
      "not in system\n",
      "1\n",
      "not in system\n",
      "2\n",
      "IN SYSTEM\n",
      "3\n",
      "not in system\n"
     ]
    }
   ],
   "source": [
    "def total_token_supply():\n",
    "    return contract.functions.totalSupply().call()\n",
    "\n",
    "\n",
    "def vin_verification(number_of_tokens, vin_to_verify):\n",
    "    for number in range(0,number_of_tokens):\n",
    "        print(number)\n",
    "        if contract.functions.vehicleCollection(number).call()[1] == vin_to_verify:\n",
    "            print(\"IN SYSTEM\")\n",
    "        else:\n",
    "            print(\"not in system\")\n"
   ]
  },
  {
   "cell_type": "code",
   "execution_count": 139,
   "metadata": {},
   "outputs": [],
   "source": [
    "import cv2\n",
    "\n",
    "def qr_decoder(file):    \n",
    "    # read the QRCODE image\n",
    "    image = cv2.imread(file)\n",
    "    # initialize the cv2 QRCode detector\n",
    "    detector = cv2.QRCodeDetector()\n",
    "    # detect and decode\n",
    "    data, vertices_array, binary_qrcode = detector.detectAndDecode(image)\n",
    "    # if there is a QR code\n",
    "    # print the data\n",
    "    if vertices_array is not None:\n",
    "        return data\n",
    "    else:\n",
    "        return print(\"There was some error\")"
   ]
  },
  {
   "cell_type": "code",
   "execution_count": 140,
   "metadata": {},
   "outputs": [
    {
     "data": {
      "text/plain": [
       "''"
      ]
     },
     "execution_count": 140,
     "metadata": {},
     "output_type": "execute_result"
    }
   ],
   "source": [
    "qr_decoder(\"./temp/BOB.jpg\")"
   ]
  },
  {
   "cell_type": "code",
   "execution_count": 81,
   "metadata": {},
   "outputs": [],
   "source": [
    "binary_qrcode"
   ]
  },
  {
   "cell_type": "code",
   "execution_count": 99,
   "metadata": {},
   "outputs": [],
   "source": [
    "# Importing libraries\n",
    "import qrcode\n",
    "# Data for which you want to make QR Code\n",
    "# Here we are using URL of MakeUseOf website\n",
    "data = \"hello world\"\n",
    "# Name of the QR Code Image file\n",
    "QRCodefile = \"CustomisedBorderQRCode.png\"\n",
    "# instantiate QRCode object\n",
    "qrObject = qrcode.QRCode(border=10)\n",
    "# add data to the QR code\n",
    "qrObject.add_data(data)\n",
    "# compile the data into a QR code array\n",
    "qrObject.make()\n",
    "code = qrObject.make_image()\n"
   ]
  },
  {
   "cell_type": "code",
   "execution_count": 101,
   "metadata": {},
   "outputs": [
    {
     "data": {
      "image/png": "[encoded data removed]",
      "text/plain": [
       "<qrcode.image.pil.PilImage at 0x7fbe8160cbb0>"
      ]
     },
     "execution_count": 101,
     "metadata": {},
     "output_type": "execute_result"
    }
   ],
   "source": [
    "code"
   ]
  },
  {
   "cell_type": "code",
   "execution_count": 134,
   "metadata": {},
   "outputs": [
    {
     "ename": "UnicodeDecodeError",
     "evalue": "'utf-8' codec can't decode byte 0x89 in position 0: invalid start byte",
     "output_type": "error",
     "traceback": [
      "\u001b[0;31m---------------------------------------------------------------------------\u001b[0m",
      "\u001b[0;31mUnicodeDecodeError\u001b[0m                        Traceback (most recent call last)",
      "\u001b[0;32m/var/folders/bk/z2_y916x5gx26_4vt2c_99zh0000gn/T/ipykernel_56356/1263005413.py\u001b[0m in \u001b[0;36m<module>\u001b[0;34m\u001b[0m\n\u001b[1;32m     10\u001b[0m     \u001b[0mdetector\u001b[0m \u001b[0;34m=\u001b[0m \u001b[0mcv2\u001b[0m\u001b[0;34m.\u001b[0m\u001b[0mQRCodeDetector\u001b[0m\u001b[0;34m(\u001b[0m\u001b[0;34m)\u001b[0m\u001b[0;34m\u001b[0m\u001b[0;34m\u001b[0m\u001b[0m\n\u001b[1;32m     11\u001b[0m     \u001b[0;31m# detect and decode\u001b[0m\u001b[0;34m\u001b[0m\u001b[0;34m\u001b[0m\u001b[0m\n\u001b[0;32m---> 12\u001b[0;31m     \u001b[0mdata\u001b[0m\u001b[0;34m,\u001b[0m \u001b[0mvertices_array\u001b[0m\u001b[0;34m,\u001b[0m \u001b[0mbinary_qrcode\u001b[0m \u001b[0;34m=\u001b[0m \u001b[0mdetector\u001b[0m\u001b[0;34m.\u001b[0m\u001b[0mdetectAndDecode\u001b[0m\u001b[0;34m(\u001b[0m\u001b[0mfile\u001b[0m\u001b[0;34m.\u001b[0m\u001b[0mread\u001b[0m\u001b[0;34m(\u001b[0m\u001b[0;34m)\u001b[0m\u001b[0;34m)\u001b[0m\u001b[0;34m\u001b[0m\u001b[0;34m\u001b[0m\u001b[0m\n\u001b[0m\u001b[1;32m     13\u001b[0m     \u001b[0;31m# if there is a QR code\u001b[0m\u001b[0;34m\u001b[0m\u001b[0;34m\u001b[0m\u001b[0m\n\u001b[1;32m     14\u001b[0m     \u001b[0;31m# print the data\u001b[0m\u001b[0;34m\u001b[0m\u001b[0;34m\u001b[0m\u001b[0m\n",
      "\u001b[0;32m~/opt/anaconda3/envs/dev/lib/python3.9/codecs.py\u001b[0m in \u001b[0;36mdecode\u001b[0;34m(self, input, final)\u001b[0m\n\u001b[1;32m    320\u001b[0m         \u001b[0;31m# decode input (taking the buffer into account)\u001b[0m\u001b[0;34m\u001b[0m\u001b[0;34m\u001b[0m\u001b[0m\n\u001b[1;32m    321\u001b[0m         \u001b[0mdata\u001b[0m \u001b[0;34m=\u001b[0m \u001b[0mself\u001b[0m\u001b[0;34m.\u001b[0m\u001b[0mbuffer\u001b[0m \u001b[0;34m+\u001b[0m \u001b[0minput\u001b[0m\u001b[0;34m\u001b[0m\u001b[0;34m\u001b[0m\u001b[0m\n\u001b[0;32m--> 322\u001b[0;31m         \u001b[0;34m(\u001b[0m\u001b[0mresult\u001b[0m\u001b[0;34m,\u001b[0m \u001b[0mconsumed\u001b[0m\u001b[0;34m)\u001b[0m \u001b[0;34m=\u001b[0m \u001b[0mself\u001b[0m\u001b[0;34m.\u001b[0m\u001b[0m_buffer_decode\u001b[0m\u001b[0;34m(\u001b[0m\u001b[0mdata\u001b[0m\u001b[0;34m,\u001b[0m \u001b[0mself\u001b[0m\u001b[0;34m.\u001b[0m\u001b[0merrors\u001b[0m\u001b[0;34m,\u001b[0m \u001b[0mfinal\u001b[0m\u001b[0;34m)\u001b[0m\u001b[0;34m\u001b[0m\u001b[0;34m\u001b[0m\u001b[0m\n\u001b[0m\u001b[1;32m    323\u001b[0m         \u001b[0;31m# keep undecoded input until the next call\u001b[0m\u001b[0;34m\u001b[0m\u001b[0;34m\u001b[0m\u001b[0m\n\u001b[1;32m    324\u001b[0m         \u001b[0mself\u001b[0m\u001b[0;34m.\u001b[0m\u001b[0mbuffer\u001b[0m \u001b[0;34m=\u001b[0m \u001b[0mdata\u001b[0m\u001b[0;34m[\u001b[0m\u001b[0mconsumed\u001b[0m\u001b[0;34m:\u001b[0m\u001b[0;34m]\u001b[0m\u001b[0;34m\u001b[0m\u001b[0;34m\u001b[0m\u001b[0m\n",
      "\u001b[0;31mUnicodeDecodeError\u001b[0m: 'utf-8' codec can't decode byte 0x89 in position 0: invalid start byte"
     ]
    }
   ],
   "source": [
    "with open(\"./temp/John Doe.jpg\",) as file:\n",
    "    # Import Library\n",
    "    import cv2\n",
    "    # Name of the QR Code Image file\n",
    "    # filename = \"./temp/John Doe.jpg\"\n",
    "    # read the QRCODE image\n",
    "    # print()\n",
    "    # image = cv2.imread(file)\n",
    "    # initialize the cv2 QRCode detector\n",
    "    detector = cv2.QRCodeDetector()\n",
    "    # detect and decode\n",
    "    data, vertices_array, binary_qrcode = detector.detectAndDecode(file.read())\n",
    "    # if there is a QR code\n",
    "    # print the data\n",
    "    if vertices_array is not None:\n",
    "        print(\"QRCode data:\")\n",
    "        print(data)\n",
    "    else:\n",
    "        print(\"There was some error\")"
   ]
  },
  {
   "cell_type": "code",
   "execution_count": 133,
   "metadata": {},
   "outputs": [
    {
     "ename": "TypeError",
     "evalue": "Can't convert object to 'str' for 'filename'",
     "output_type": "error",
     "traceback": [
      "\u001b[0;31m---------------------------------------------------------------------------\u001b[0m",
      "\u001b[0;31mTypeError\u001b[0m                                 Traceback (most recent call last)",
      "\u001b[0;32m/var/folders/bk/z2_y916x5gx26_4vt2c_99zh0000gn/T/ipykernel_56356/1603872316.py\u001b[0m in \u001b[0;36m<module>\u001b[0;34m\u001b[0m\n\u001b[1;32m      4\u001b[0m \u001b[0mfilename\u001b[0m \u001b[0;34m=\u001b[0m \u001b[0;34m\"./temp/John Doe.jpg\"\u001b[0m\u001b[0;34m\u001b[0m\u001b[0;34m\u001b[0m\u001b[0m\n\u001b[1;32m      5\u001b[0m \u001b[0;31m# read the QRCODE image\u001b[0m\u001b[0;34m\u001b[0m\u001b[0;34m\u001b[0m\u001b[0m\n\u001b[0;32m----> 6\u001b[0;31m \u001b[0mimage\u001b[0m \u001b[0;34m=\u001b[0m \u001b[0mcv2\u001b[0m\u001b[0;34m.\u001b[0m\u001b[0mimread\u001b[0m\u001b[0;34m(\u001b[0m\u001b[0mImage\u001b[0m\u001b[0;34m.\u001b[0m\u001b[0mopen\u001b[0m\u001b[0;34m(\u001b[0m\u001b[0mfilename\u001b[0m\u001b[0;34m)\u001b[0m\u001b[0;34m)\u001b[0m\u001b[0;34m\u001b[0m\u001b[0;34m\u001b[0m\u001b[0m\n\u001b[0m\u001b[1;32m      7\u001b[0m \u001b[0;31m# initialize the cv2 QRCode detector\u001b[0m\u001b[0;34m\u001b[0m\u001b[0;34m\u001b[0m\u001b[0m\n\u001b[1;32m      8\u001b[0m \u001b[0mdetector\u001b[0m \u001b[0;34m=\u001b[0m \u001b[0mcv2\u001b[0m\u001b[0;34m.\u001b[0m\u001b[0mQRCodeDetector\u001b[0m\u001b[0;34m(\u001b[0m\u001b[0;34m)\u001b[0m\u001b[0;34m\u001b[0m\u001b[0;34m\u001b[0m\u001b[0m\n",
      "\u001b[0;31mTypeError\u001b[0m: Can't convert object to 'str' for 'filename'"
     ]
    }
   ],
   "source": [
    "# Import Library\n",
    "import cv2\n",
    "# Name of the QR Code Image file\n",
    "filename = \"./temp/John Doe.jpg\"\n",
    "# read the QRCODE image\n",
    "image = cv2.imread(Image.open(filename))\n",
    "# initialize the cv2 QRCode detector\n",
    "detector = cv2.QRCodeDetector()\n",
    "# detect and decode\n",
    "data, vertices_array, binary_qrcode = detector.detectAndDecode(image)\n",
    "# if there is a QR code\n",
    "# print the data\n",
    "if vertices_array is not None:\n",
    " print(\"QRCode data:\")\n",
    " print(data)\n",
    "else:\n",
    " print(\"There was some error\")"
   ]
  },
  {
   "cell_type": "code",
   "execution_count": 103,
   "metadata": {},
   "outputs": [],
   "source": [
    "d = cv2.QRCodeDetector()"
   ]
  },
  {
   "cell_type": "code",
   "execution_count": 104,
   "metadata": {},
   "outputs": [],
   "source": [
    "val, points, straight_qrcode = d.detectAndDecode(cv2.imread(\"./temp/John Doe.jpg\"))"
   ]
  },
  {
   "cell_type": "code",
   "execution_count": 128,
   "metadata": {},
   "outputs": [],
   "source": [
    "from PIL import Image"
   ]
  },
  {
   "cell_type": "code",
   "execution_count": 130,
   "metadata": {},
   "outputs": [
    {
     "data": {
      "image/png": "[encoded data removed]",
      "text/plain": [
       "<PIL.PngImagePlugin.PngImageFile image mode=1 size=490x490 at 0x7FBE8159BCD0>"
      ]
     },
     "execution_count": 130,
     "metadata": {},
     "output_type": "execute_result"
    }
   ],
   "source": [
    "Image.open(filename)"
   ]
  },
  {
   "cell_type": "code",
   "execution_count": 176,
   "metadata": {},
   "outputs": [],
   "source": [
    "def qr_decoder(file):    \n",
    "    # read the QRCODE image\n",
    "    image = cv2.imread(file)\n",
    "    # initialize the cv2 QRCode detector\n",
    "    detector = cv2.QRCodeDetector()\n",
    "    # detect and decode\n",
    "    data, vertices_array, binary_qrcode = detector.detectAndDecode(image)\n",
    "    # if there is a QR code\n",
    "    # print the data\n",
    "    return data"
   ]
  },
  {
   "cell_type": "code",
   "execution_count": 180,
   "metadata": {},
   "outputs": [
    {
     "data": {
      "text/plain": [
       "\"{'name': 'apple', 'vin': '@3423,', 'status': 'pending', 'make': 'asfdadf', 'model': 'adf', 'year': 'adf'}\""
      ]
     },
     "execution_count": 180,
     "metadata": {},
     "output_type": "execute_result"
    }
   ],
   "source": [
    "qr_decoder(\"./temp/apple.jpg\")"
   ]
  },
  {
   "cell_type": "code",
   "execution_count": 157,
   "metadata": {},
   "outputs": [],
   "source": [
    "def make_qr_quote(name, vin, status, make, model, year):\n",
    "    qr = qrcode.QRCode(\n",
    "    version=1,\n",
    "    error_correction=qrcode.constants.ERROR_CORRECT_L,\n",
    "    box_size=10,\n",
    "    border=4)\n",
    "    qr.add_data(\n",
    "        {\"name\":f\"{name}\", \n",
    "        \"vin\":f\"{vin}\",\n",
    "        \"status\":f\"{status}\",\n",
    "        \"make\":f\"{make}\",\n",
    "        \"model\":f\"{model}\",\n",
    "        \"year\":f\"{year}\"})\n",
    "    qr.make(fit=True)\n",
    "    img = qr.make_image(fill_color=\"black\", back_color=\"white\")\n",
    "    img.save(f\"temp/{name}.jpg\")"
   ]
  },
  {
   "cell_type": "code",
   "execution_count": 160,
   "metadata": {},
   "outputs": [],
   "source": [
    "make_qr_quote(\"apple\",\"@3423,\",\"pending\",\"asfdadf\",\"adf\",\"adf\")"
   ]
  },
  {
   "cell_type": "code",
   "execution_count": 170,
   "metadata": {},
   "outputs": [],
   "source": [
    "x = qr_decoder(\"./temp/apple.jpg\")"
   ]
  },
  {
   "cell_type": "code",
   "execution_count": 174,
   "metadata": {},
   "outputs": [
    {
     "data": {
      "text/plain": [
       "\"{'name': 'apple', 'vin': '@3423,', 'status': 'pending', 'make': 'asfdadf', 'model': 'adf', 'year': 'adf'}\""
      ]
     },
     "execution_count": 174,
     "metadata": {},
     "output_type": "execute_result"
    }
   ],
   "source": [
    "x"
   ]
  },
  {
   "cell_type": "code",
   "execution_count": null,
   "metadata": {},
   "outputs": [],
   "source": []
  }
 ],
 "metadata": {
  "interpreter": {
   "hash": "7daa0d4bf7d9832ecbed35672e4713eb7ac02d47de1d2bb67748262634aa87d4"
  },
  "kernelspec": {
   "display_name": "Python 3.9.7 ('dev')",
   "language": "python",
   "name": "python3"
  },
  "language_info": {
   "codemirror_mode": {
    "name": "ipython",
    "version": 3
   },
   "file_extension": ".py",
   "mimetype": "text/x-python",
   "name": "python",
   "nbconvert_exporter": "python",
   "pygments_lexer": "ipython3",
   "version": "3.9.7"
  },
  "orig_nbformat": 4
 },
 "nbformat": 4,
 "nbformat_minor": 2
}
